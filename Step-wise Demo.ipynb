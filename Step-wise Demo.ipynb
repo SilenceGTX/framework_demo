{
 "cells": [
  {
   "cell_type": "code",
   "execution_count": 1,
   "metadata": {
    "collapsed": true
   },
   "outputs": [],
   "source": [
    "import pandas as pd\n",
    "import numpy as np\n",
    "import lightgbm as lgb\n",
    "import os\n",
    "import gc\n",
    "from sklearn.metrics import mean_squared_error as MSE"
   ]
  },
  {
   "cell_type": "markdown",
   "metadata": {},
   "source": [
    "## Build training data"
   ]
  },
  {
   "cell_type": "code",
   "execution_count": 2,
   "metadata": {
    "collapsed": true
   },
   "outputs": [],
   "source": [
    "df = pd.DataFrame(\n",
    "    {\n",
    "        'other_feature_1':[0, 1, 1, 0, 1, 0, 0, 0, 0, 1, 1, 1, 0, 0, 1, 0, 1, 1, 0, 1, 0, 0, 1, 0, 0], \n",
    "        'other_feature_2':[2, 5, 2, 3, 1, 4, 5, 3, 2, 1, 4, 6, 7, 1, 2, 2, 8, 4, 1, 1, 3, 2, 4, 2, 1], \n",
    "        'target':[5, 6, 8, 9, 7, 6, 5, 3, 2, 5, 6, 3, 2, 4, 2, 6, 7, 5, 2, 1, 3, 4, 8, 6, 8]\n",
    "    }\n",
    ")"
   ]
  },
  {
   "cell_type": "code",
   "execution_count": 3,
   "metadata": {},
   "outputs": [
    {
     "data": {
      "text/html": [
       "<div>\n",
       "<style>\n",
       "    .dataframe thead tr:only-child th {\n",
       "        text-align: right;\n",
       "    }\n",
       "\n",
       "    .dataframe thead th {\n",
       "        text-align: left;\n",
       "    }\n",
       "\n",
       "    .dataframe tbody tr th {\n",
       "        vertical-align: top;\n",
       "    }\n",
       "</style>\n",
       "<table border=\"1\" class=\"dataframe\">\n",
       "  <thead>\n",
       "    <tr style=\"text-align: right;\">\n",
       "      <th></th>\n",
       "      <th>other_feature_1</th>\n",
       "      <th>other_feature_2</th>\n",
       "      <th>target</th>\n",
       "    </tr>\n",
       "  </thead>\n",
       "  <tbody>\n",
       "    <tr>\n",
       "      <th>0</th>\n",
       "      <td>0</td>\n",
       "      <td>2</td>\n",
       "      <td>5</td>\n",
       "    </tr>\n",
       "    <tr>\n",
       "      <th>1</th>\n",
       "      <td>1</td>\n",
       "      <td>5</td>\n",
       "      <td>6</td>\n",
       "    </tr>\n",
       "    <tr>\n",
       "      <th>2</th>\n",
       "      <td>1</td>\n",
       "      <td>2</td>\n",
       "      <td>8</td>\n",
       "    </tr>\n",
       "    <tr>\n",
       "      <th>3</th>\n",
       "      <td>0</td>\n",
       "      <td>3</td>\n",
       "      <td>9</td>\n",
       "    </tr>\n",
       "    <tr>\n",
       "      <th>4</th>\n",
       "      <td>1</td>\n",
       "      <td>1</td>\n",
       "      <td>7</td>\n",
       "    </tr>\n",
       "  </tbody>\n",
       "</table>\n",
       "</div>"
      ],
      "text/plain": [
       "   other_feature_1  other_feature_2  target\n",
       "0                0                2       5\n",
       "1                1                5       6\n",
       "2                1                2       8\n",
       "3                0                3       9\n",
       "4                1                1       7"
      ]
     },
     "execution_count": 3,
     "metadata": {},
     "output_type": "execute_result"
    }
   ],
   "source": [
    "df[:5]"
   ]
  },
  {
   "cell_type": "code",
   "execution_count": 4,
   "metadata": {
    "collapsed": true
   },
   "outputs": [],
   "source": [
    "df['last_sales'] = df['target'].shift(1)"
   ]
  },
  {
   "cell_type": "code",
   "execution_count": 5,
   "metadata": {},
   "outputs": [
    {
     "data": {
      "text/html": [
       "<div>\n",
       "<style>\n",
       "    .dataframe thead tr:only-child th {\n",
       "        text-align: right;\n",
       "    }\n",
       "\n",
       "    .dataframe thead th {\n",
       "        text-align: left;\n",
       "    }\n",
       "\n",
       "    .dataframe tbody tr th {\n",
       "        vertical-align: top;\n",
       "    }\n",
       "</style>\n",
       "<table border=\"1\" class=\"dataframe\">\n",
       "  <thead>\n",
       "    <tr style=\"text-align: right;\">\n",
       "      <th></th>\n",
       "      <th>last_sales</th>\n",
       "      <th>other_feature_1</th>\n",
       "      <th>other_feature_2</th>\n",
       "      <th>target</th>\n",
       "    </tr>\n",
       "  </thead>\n",
       "  <tbody>\n",
       "    <tr>\n",
       "      <th>0</th>\n",
       "      <td>NaN</td>\n",
       "      <td>0</td>\n",
       "      <td>2</td>\n",
       "      <td>5</td>\n",
       "    </tr>\n",
       "    <tr>\n",
       "      <th>1</th>\n",
       "      <td>5.0</td>\n",
       "      <td>1</td>\n",
       "      <td>5</td>\n",
       "      <td>6</td>\n",
       "    </tr>\n",
       "    <tr>\n",
       "      <th>2</th>\n",
       "      <td>6.0</td>\n",
       "      <td>1</td>\n",
       "      <td>2</td>\n",
       "      <td>8</td>\n",
       "    </tr>\n",
       "    <tr>\n",
       "      <th>3</th>\n",
       "      <td>8.0</td>\n",
       "      <td>0</td>\n",
       "      <td>3</td>\n",
       "      <td>9</td>\n",
       "    </tr>\n",
       "    <tr>\n",
       "      <th>4</th>\n",
       "      <td>9.0</td>\n",
       "      <td>1</td>\n",
       "      <td>1</td>\n",
       "      <td>7</td>\n",
       "    </tr>\n",
       "  </tbody>\n",
       "</table>\n",
       "</div>"
      ],
      "text/plain": [
       "   last_sales  other_feature_1  other_feature_2  target\n",
       "0         NaN                0                2       5\n",
       "1         5.0                1                5       6\n",
       "2         6.0                1                2       8\n",
       "3         8.0                0                3       9\n",
       "4         9.0                1                1       7"
      ]
     },
     "execution_count": 5,
     "metadata": {},
     "output_type": "execute_result"
    }
   ],
   "source": [
    "df = df[['last_sales', 'other_feature_1', 'other_feature_2', 'target']]\n",
    "df[:5]"
   ]
  },
  {
   "cell_type": "markdown",
   "metadata": {},
   "source": [
    "## Train the models"
   ]
  },
  {
   "cell_type": "code",
   "execution_count": 6,
   "metadata": {},
   "outputs": [],
   "source": [
    "features = [f for f in df.columns if f not in ['target']]\n",
    "y = df['target']\n",
    "categorical_feature = ['other_feature_1']"
   ]
  },
  {
   "cell_type": "code",
   "execution_count": 7,
   "metadata": {
    "collapsed": true
   },
   "outputs": [],
   "source": [
    "params = {\n",
    "    'num_leaves': 2,\n",
    "    'max_depth': 2,\n",
    "    'objective': 'regression',\n",
    "    'learning_rate': 0.1,\n",
    "    'seed': 2333,\n",
    "    'metric': 'l2',\n",
    "    'min_data': 1,\n",
    "}"
   ]
  },
  {
   "cell_type": "code",
   "execution_count": 8,
   "metadata": {
    "collapsed": true
   },
   "outputs": [],
   "source": [
    "batch_size = 12 # how many data are there in a batch to train 1 model\n",
    "interval = 3 # what is the interval between batches"
   ]
  },
  {
   "cell_type": "code",
   "execution_count": 9,
   "metadata": {},
   "outputs": [
    {
     "name": "stdout",
     "output_type": "stream",
     "text": [
      "4 batches in all\n",
      "Training until validation scores don't improve for 10 rounds.\n",
      "[10]\ttraining's l2: 2.61076\tvalid_1's l2: 5.49424\n",
      "[20]\ttraining's l2: 2.37715\tvalid_1's l2: 5.32769\n",
      "Early stopping, best iteration is:\n",
      "[19]\ttraining's l2: 2.39242\tvalid_1's l2: 5.30221\n",
      "Training until validation scores don't improve for 10 rounds.\n",
      "[10]\ttraining's l2: 2.38909\tvalid_1's l2: 3.37119\n",
      "Early stopping, best iteration is:\n",
      "[2]\ttraining's l2: 2.88295\tvalid_1's l2: 3.331\n",
      "Training until validation scores don't improve for 10 rounds.\n",
      "[10]\ttraining's l2: 2.06362\tvalid_1's l2: 2.81376\n",
      "[20]\ttraining's l2: 1.62906\tvalid_1's l2: 2.47332\n",
      "[30]\ttraining's l2: 1.33858\tvalid_1's l2: 2.25893\n",
      "[40]\ttraining's l2: 1.14673\tvalid_1's l2: 2.10776\n",
      "[50]\ttraining's l2: 1.02034\tvalid_1's l2: 2.0224\n",
      "[60]\ttraining's l2: 0.934663\tvalid_1's l2: 1.97775\n",
      "[70]\ttraining's l2: 0.874806\tvalid_1's l2: 1.93564\n",
      "[80]\ttraining's l2: 0.833027\tvalid_1's l2: 1.89104\n",
      "[90]\ttraining's l2: 0.803528\tvalid_1's l2: 1.87926\n",
      "[100]\ttraining's l2: 0.782781\tvalid_1's l2: 1.87776\n",
      "[110]\ttraining's l2: 0.768271\tvalid_1's l2: 1.87309\n",
      "Early stopping, best iteration is:\n",
      "[104]\ttraining's l2: 0.776353\tvalid_1's l2: 1.86571\n",
      "Training until validation scores don't improve for 10 rounds.\n",
      "[10]\ttraining's l2: 3.03404\tvalid_1's l2: 2.34985\n",
      "[20]\ttraining's l2: 2.4084\tvalid_1's l2: 2.08623\n",
      "[30]\ttraining's l2: 2.0846\tvalid_1's l2: 2.04017\n",
      "Early stopping, best iteration is:\n",
      "[29]\ttraining's l2: 2.10939\tvalid_1's l2: 2.02922\n"
     ]
    },
    {
     "name": "stderr",
     "output_type": "stream",
     "text": [
      "D:\\Anaconda3\\lib\\site-packages\\lightgbm\\basic.py:1036: UserWarning: Using categorical_feature in Dataset.\n",
      "  warnings.warn('Using categorical_feature in Dataset.')\n",
      "D:\\Anaconda3\\lib\\site-packages\\lightgbm\\basic.py:681: UserWarning: categorical_feature in param dict is overrided.\n",
      "  warnings.warn('categorical_feature in param dict is overrided.')\n"
     ]
    }
   ],
   "source": [
    "batch = (len(df) + 1 - batch_size) // interval # calc how many batches will there be\n",
    "print('%i batches in all'%(batch))\n",
    "\n",
    "models = []\n",
    "for i in range(0, batch): # generate data for each batch\n",
    "    X_train = df[features].iloc[np.r_[range(len(df)-batch_size-(i+1)*interval, len(df)-(i+1)*interval)]] # train features\n",
    "    y_train = y.iloc[np.r_[range(len(df)-batch_size-(i+1)*interval, len(df)-(i+1)*interval)]] # train target\n",
    "    X_val = df[features].iloc[np.r_[range(len(df)-batch_size-i*interval, len(df)-i*interval)]] # val features\n",
    "    y_val = y.iloc[np.r_[range(len(df)-batch_size-i*interval, len(df)-i*interval)]] # val target\n",
    "    \n",
    "    lgb_train = lgb.Dataset(X_train, y_train, categorical_feature=categorical_feature)\n",
    "    lgb_val = lgb.Dataset(X_val, y_val, categorical_feature=categorical_feature, reference=lgb_train)\n",
    "    \n",
    "    bst = lgb.train(params,\n",
    "                    lgb_train,\n",
    "                    num_boost_round=2000,\n",
    "                    valid_sets=[lgb_train, lgb_val],\n",
    "                    early_stopping_rounds = 10,\n",
    "                    verbose_eval = 10)\n",
    "    models.append(bst)"
   ]
  },
  {
   "cell_type": "code",
   "execution_count": 10,
   "metadata": {},
   "outputs": [
    {
     "data": {
      "text/plain": [
       "4"
      ]
     },
     "execution_count": 10,
     "metadata": {},
     "output_type": "execute_result"
    }
   ],
   "source": [
    "len(models) # check how many models we got"
   ]
  },
  {
   "cell_type": "markdown",
   "metadata": {},
   "source": [
    "## Check the overall performance on validation"
   ]
  },
  {
   "cell_type": "code",
   "execution_count": 11,
   "metadata": {},
   "outputs": [],
   "source": [
    "overall_pred = np.zeros([len(df),])\n",
    "for i in range(len(models)):\n",
    "    bst = models[i]\n",
    "    overall_pred = overall_pred + 1.0 / batch * bst.predict(df[features])"
   ]
  },
  {
   "cell_type": "code",
   "execution_count": 12,
   "metadata": {},
   "outputs": [
    {
     "data": {
      "text/plain": [
       "array([3.94996843, 4.45015517, 4.69081331, 5.27336021, 5.25299804,\n",
       "       5.27336021, 4.24650648, 4.33751527, 3.32702944, 3.92960627,\n",
       "       4.61598863, 4.52497984, 3.16119598, 3.65113291, 3.6055028 ,\n",
       "       3.94996843, 4.52497984, 5.55183357, 4.03867974, 3.92960627,\n",
       "       3.94996843, 3.32702944, 3.6055028 , 5.27336021, 4.11350442])"
      ]
     },
     "execution_count": 12,
     "metadata": {},
     "output_type": "execute_result"
    }
   ],
   "source": [
    "overall_pred"
   ]
  },
  {
   "cell_type": "code",
   "execution_count": 13,
   "metadata": {},
   "outputs": [
    {
     "data": {
      "text/plain": [
       "4.24"
      ]
     },
     "execution_count": 13,
     "metadata": {},
     "output_type": "execute_result"
    }
   ],
   "source": [
    "MSE(df['target'], np.round(overall_pred))"
   ]
  },
  {
   "cell_type": "markdown",
   "metadata": {},
   "source": [
    "## Test"
   ]
  },
  {
   "cell_type": "code",
   "execution_count": 14,
   "metadata": {},
   "outputs": [],
   "source": [
    "test_df = pd.DataFrame(\n",
    "    {\n",
    "        'other_feature_1':[0, 1, 1, 0, 1, 0, 0, 0, 0, 1, 1, 1, 0, 0, 1, 0, 1, 1, 0, 1, 0, 0, 1, 0, 0], \n",
    "        'other_feature_2':[2, 5, 2, 3, 1, 4, 5, 3, 2, 1, 4, 6, 7, 1, 2, 2, 8, 4, 1, 1, 3, 2, 4, 2, 1], \n",
    "        'target':np.nan\n",
    "    }\n",
    ") # create some test data"
   ]
  },
  {
   "cell_type": "code",
   "execution_count": 15,
   "metadata": {},
   "outputs": [
    {
     "data": {
      "text/html": [
       "<div>\n",
       "<style>\n",
       "    .dataframe thead tr:only-child th {\n",
       "        text-align: right;\n",
       "    }\n",
       "\n",
       "    .dataframe thead th {\n",
       "        text-align: left;\n",
       "    }\n",
       "\n",
       "    .dataframe tbody tr th {\n",
       "        vertical-align: top;\n",
       "    }\n",
       "</style>\n",
       "<table border=\"1\" class=\"dataframe\">\n",
       "  <thead>\n",
       "    <tr style=\"text-align: right;\">\n",
       "      <th></th>\n",
       "      <th>last_sales</th>\n",
       "      <th>other_feature_1</th>\n",
       "      <th>other_feature_2</th>\n",
       "      <th>target</th>\n",
       "    </tr>\n",
       "  </thead>\n",
       "  <tbody>\n",
       "    <tr>\n",
       "      <th>0</th>\n",
       "      <td>8.0</td>\n",
       "      <td>0</td>\n",
       "      <td>2</td>\n",
       "      <td>NaN</td>\n",
       "    </tr>\n",
       "    <tr>\n",
       "      <th>1</th>\n",
       "      <td>NaN</td>\n",
       "      <td>1</td>\n",
       "      <td>5</td>\n",
       "      <td>NaN</td>\n",
       "    </tr>\n",
       "    <tr>\n",
       "      <th>2</th>\n",
       "      <td>NaN</td>\n",
       "      <td>1</td>\n",
       "      <td>2</td>\n",
       "      <td>NaN</td>\n",
       "    </tr>\n",
       "    <tr>\n",
       "      <th>3</th>\n",
       "      <td>NaN</td>\n",
       "      <td>0</td>\n",
       "      <td>3</td>\n",
       "      <td>NaN</td>\n",
       "    </tr>\n",
       "    <tr>\n",
       "      <th>4</th>\n",
       "      <td>NaN</td>\n",
       "      <td>1</td>\n",
       "      <td>1</td>\n",
       "      <td>NaN</td>\n",
       "    </tr>\n",
       "  </tbody>\n",
       "</table>\n",
       "</div>"
      ],
      "text/plain": [
       "   last_sales  other_feature_1  other_feature_2  target\n",
       "0         8.0                0                2     NaN\n",
       "1         NaN                1                5     NaN\n",
       "2         NaN                1                2     NaN\n",
       "3         NaN                0                3     NaN\n",
       "4         NaN                1                1     NaN"
      ]
     },
     "execution_count": 15,
     "metadata": {},
     "output_type": "execute_result"
    }
   ],
   "source": [
    "test_df['last_sales'] = test_df['target'].shift(1)\n",
    "test_df = test_df[['last_sales', 'other_feature_1', 'other_feature_2', 'target']]\n",
    "test_df['last_sales'].iloc[0] = df['target'].iloc[-1] # the first last_sales in test is the last target in train\n",
    "test_df[:5]"
   ]
  },
  {
   "cell_type": "code",
   "execution_count": 16,
   "metadata": {},
   "outputs": [
    {
     "name": "stderr",
     "output_type": "stream",
     "text": [
      "D:\\Anaconda3\\lib\\site-packages\\lightgbm\\basic.py:447: UserWarning: Converting data to scipy sparse matrix.\n",
      "  warnings.warn('Converting data to scipy sparse matrix.')\n",
      "D:\\Anaconda3\\lib\\site-packages\\pandas\\core\\indexing.py:179: SettingWithCopyWarning: \n",
      "A value is trying to be set on a copy of a slice from a DataFrame\n",
      "\n",
      "See the caveats in the documentation: http://pandas.pydata.org/pandas-docs/stable/indexing.html#indexing-view-versus-copy\n",
      "  self._setitem_with_indexer(indexer, value)\n"
     ]
    }
   ],
   "source": [
    "for i in range(len(test_df) - 1):\n",
    "    test_df['target'].iloc[i] = np.round(np.mean([bst.predict(df[features].iloc[i]) for bst in models])) # predict the target\n",
    "    test_df['last_sales'].iloc[i+1] = test_df['target'].iloc[i] # last_sales in i+1 = target in i"
   ]
  },
  {
   "cell_type": "code",
   "execution_count": 17,
   "metadata": {},
   "outputs": [
    {
     "data": {
      "text/html": [
       "<div>\n",
       "<style>\n",
       "    .dataframe thead tr:only-child th {\n",
       "        text-align: right;\n",
       "    }\n",
       "\n",
       "    .dataframe thead th {\n",
       "        text-align: left;\n",
       "    }\n",
       "\n",
       "    .dataframe tbody tr th {\n",
       "        vertical-align: top;\n",
       "    }\n",
       "</style>\n",
       "<table border=\"1\" class=\"dataframe\">\n",
       "  <thead>\n",
       "    <tr style=\"text-align: right;\">\n",
       "      <th></th>\n",
       "      <th>last_sales</th>\n",
       "      <th>other_feature_1</th>\n",
       "      <th>other_feature_2</th>\n",
       "      <th>target</th>\n",
       "    </tr>\n",
       "  </thead>\n",
       "  <tbody>\n",
       "    <tr>\n",
       "      <th>0</th>\n",
       "      <td>8.0</td>\n",
       "      <td>0</td>\n",
       "      <td>2</td>\n",
       "      <td>4.0</td>\n",
       "    </tr>\n",
       "    <tr>\n",
       "      <th>1</th>\n",
       "      <td>4.0</td>\n",
       "      <td>1</td>\n",
       "      <td>5</td>\n",
       "      <td>4.0</td>\n",
       "    </tr>\n",
       "    <tr>\n",
       "      <th>2</th>\n",
       "      <td>4.0</td>\n",
       "      <td>1</td>\n",
       "      <td>2</td>\n",
       "      <td>5.0</td>\n",
       "    </tr>\n",
       "    <tr>\n",
       "      <th>3</th>\n",
       "      <td>5.0</td>\n",
       "      <td>0</td>\n",
       "      <td>3</td>\n",
       "      <td>5.0</td>\n",
       "    </tr>\n",
       "    <tr>\n",
       "      <th>4</th>\n",
       "      <td>5.0</td>\n",
       "      <td>1</td>\n",
       "      <td>1</td>\n",
       "      <td>5.0</td>\n",
       "    </tr>\n",
       "    <tr>\n",
       "      <th>5</th>\n",
       "      <td>5.0</td>\n",
       "      <td>0</td>\n",
       "      <td>4</td>\n",
       "      <td>5.0</td>\n",
       "    </tr>\n",
       "    <tr>\n",
       "      <th>6</th>\n",
       "      <td>5.0</td>\n",
       "      <td>0</td>\n",
       "      <td>5</td>\n",
       "      <td>4.0</td>\n",
       "    </tr>\n",
       "    <tr>\n",
       "      <th>7</th>\n",
       "      <td>4.0</td>\n",
       "      <td>0</td>\n",
       "      <td>3</td>\n",
       "      <td>4.0</td>\n",
       "    </tr>\n",
       "    <tr>\n",
       "      <th>8</th>\n",
       "      <td>4.0</td>\n",
       "      <td>0</td>\n",
       "      <td>2</td>\n",
       "      <td>3.0</td>\n",
       "    </tr>\n",
       "    <tr>\n",
       "      <th>9</th>\n",
       "      <td>3.0</td>\n",
       "      <td>1</td>\n",
       "      <td>1</td>\n",
       "      <td>4.0</td>\n",
       "    </tr>\n",
       "    <tr>\n",
       "      <th>10</th>\n",
       "      <td>4.0</td>\n",
       "      <td>1</td>\n",
       "      <td>4</td>\n",
       "      <td>5.0</td>\n",
       "    </tr>\n",
       "    <tr>\n",
       "      <th>11</th>\n",
       "      <td>5.0</td>\n",
       "      <td>1</td>\n",
       "      <td>6</td>\n",
       "      <td>5.0</td>\n",
       "    </tr>\n",
       "    <tr>\n",
       "      <th>12</th>\n",
       "      <td>5.0</td>\n",
       "      <td>0</td>\n",
       "      <td>7</td>\n",
       "      <td>3.0</td>\n",
       "    </tr>\n",
       "    <tr>\n",
       "      <th>13</th>\n",
       "      <td>3.0</td>\n",
       "      <td>0</td>\n",
       "      <td>1</td>\n",
       "      <td>4.0</td>\n",
       "    </tr>\n",
       "    <tr>\n",
       "      <th>14</th>\n",
       "      <td>4.0</td>\n",
       "      <td>1</td>\n",
       "      <td>2</td>\n",
       "      <td>4.0</td>\n",
       "    </tr>\n",
       "    <tr>\n",
       "      <th>15</th>\n",
       "      <td>4.0</td>\n",
       "      <td>0</td>\n",
       "      <td>2</td>\n",
       "      <td>4.0</td>\n",
       "    </tr>\n",
       "    <tr>\n",
       "      <th>16</th>\n",
       "      <td>4.0</td>\n",
       "      <td>1</td>\n",
       "      <td>8</td>\n",
       "      <td>5.0</td>\n",
       "    </tr>\n",
       "    <tr>\n",
       "      <th>17</th>\n",
       "      <td>5.0</td>\n",
       "      <td>1</td>\n",
       "      <td>4</td>\n",
       "      <td>6.0</td>\n",
       "    </tr>\n",
       "    <tr>\n",
       "      <th>18</th>\n",
       "      <td>6.0</td>\n",
       "      <td>0</td>\n",
       "      <td>1</td>\n",
       "      <td>4.0</td>\n",
       "    </tr>\n",
       "    <tr>\n",
       "      <th>19</th>\n",
       "      <td>4.0</td>\n",
       "      <td>1</td>\n",
       "      <td>1</td>\n",
       "      <td>4.0</td>\n",
       "    </tr>\n",
       "    <tr>\n",
       "      <th>20</th>\n",
       "      <td>4.0</td>\n",
       "      <td>0</td>\n",
       "      <td>3</td>\n",
       "      <td>4.0</td>\n",
       "    </tr>\n",
       "    <tr>\n",
       "      <th>21</th>\n",
       "      <td>4.0</td>\n",
       "      <td>0</td>\n",
       "      <td>2</td>\n",
       "      <td>3.0</td>\n",
       "    </tr>\n",
       "    <tr>\n",
       "      <th>22</th>\n",
       "      <td>3.0</td>\n",
       "      <td>1</td>\n",
       "      <td>4</td>\n",
       "      <td>4.0</td>\n",
       "    </tr>\n",
       "    <tr>\n",
       "      <th>23</th>\n",
       "      <td>4.0</td>\n",
       "      <td>0</td>\n",
       "      <td>2</td>\n",
       "      <td>5.0</td>\n",
       "    </tr>\n",
       "    <tr>\n",
       "      <th>24</th>\n",
       "      <td>5.0</td>\n",
       "      <td>0</td>\n",
       "      <td>1</td>\n",
       "      <td>NaN</td>\n",
       "    </tr>\n",
       "  </tbody>\n",
       "</table>\n",
       "</div>"
      ],
      "text/plain": [
       "    last_sales  other_feature_1  other_feature_2  target\n",
       "0          8.0                0                2     4.0\n",
       "1          4.0                1                5     4.0\n",
       "2          4.0                1                2     5.0\n",
       "3          5.0                0                3     5.0\n",
       "4          5.0                1                1     5.0\n",
       "5          5.0                0                4     5.0\n",
       "6          5.0                0                5     4.0\n",
       "7          4.0                0                3     4.0\n",
       "8          4.0                0                2     3.0\n",
       "9          3.0                1                1     4.0\n",
       "10         4.0                1                4     5.0\n",
       "11         5.0                1                6     5.0\n",
       "12         5.0                0                7     3.0\n",
       "13         3.0                0                1     4.0\n",
       "14         4.0                1                2     4.0\n",
       "15         4.0                0                2     4.0\n",
       "16         4.0                1                8     5.0\n",
       "17         5.0                1                4     6.0\n",
       "18         6.0                0                1     4.0\n",
       "19         4.0                1                1     4.0\n",
       "20         4.0                0                3     4.0\n",
       "21         4.0                0                2     3.0\n",
       "22         3.0                1                4     4.0\n",
       "23         4.0                0                2     5.0\n",
       "24         5.0                0                1     NaN"
      ]
     },
     "execution_count": 17,
     "metadata": {},
     "output_type": "execute_result"
    }
   ],
   "source": [
    "test_df"
   ]
  },
  {
   "cell_type": "code",
   "execution_count": null,
   "metadata": {
    "collapsed": true
   },
   "outputs": [],
   "source": []
  }
 ],
 "metadata": {
  "kernelspec": {
   "display_name": "Python 3",
   "language": "python",
   "name": "python3"
  },
  "language_info": {
   "codemirror_mode": {
    "name": "ipython",
    "version": 3
   },
   "file_extension": ".py",
   "mimetype": "text/x-python",
   "name": "python",
   "nbconvert_exporter": "python",
   "pygments_lexer": "ipython3",
   "version": "3.6.3"
  }
 },
 "nbformat": 4,
 "nbformat_minor": 2
}
